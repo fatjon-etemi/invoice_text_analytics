{
 "cells": [
  {
   "cell_type": "markdown",
   "metadata": {},
   "source": [
    "# Data Preparation\n",
    "This notebook copies the invoices into a ./data folder, scans them with ocr and combines it with some structured data in a csv file"
   ]
  },
  {
   "cell_type": "code",
   "execution_count": 2,
   "metadata": {},
   "outputs": [],
   "source": [
    "import json\n",
    "import os\n",
    "import re\n",
    "import shutil\n",
    "from tqdm.notebook import tqdm\n",
    "\n",
    "import pandas as pd\n",
    "import pyodbc\n",
    "import pytesseract\n",
    "from pdf2image import convert_from_path\n",
    "from pdf2image.exceptions import PDFPageCountError"
   ]
  },
  {
   "cell_type": "code",
   "execution_count": 3,
   "metadata": {},
   "outputs": [],
   "source": [
    "path = '//srvaw03/AF-Drive/BACH/Vendor/B'\n",
    "pattern = '^PI20_[0-9]{6}$'\n",
    "pattern1 = '^VE20_[0-9]*$'\n",
    "data_fields = 'nummer,sumbrutto,sumnetto,lief2'\n",
    "data_path = './data'\n",
    "config = json.load(open('config.json'))"
   ]
  },
  {
   "cell_type": "markdown",
   "metadata": {},
   "source": [
    "## Get Files"
   ]
  },
  {
   "cell_type": "code",
   "execution_count": null,
   "metadata": {},
   "outputs": [],
   "source": [
    "def get_files(path):\n",
    "    for folder in os.listdir(path):\n",
    "        print(folder)\n",
    "        if re.match(pattern, folder) and len(os.listdir(path + \"/\" + folder)) > 0 and folder not in os.listdir(\n",
    "                data_path):\n",
    "            for file in os.listdir(path + \"/\" + folder):\n",
    "                os.mkdir(data_path + '/' + folder)\n",
    "                shutil.copyfile(path + \"/\" + folder + \"/\" + file, data_path + \"/\" + folder + \"/\" + file)\n",
    "        elif os.path.isdir(path + \"/\" + folder) and (\n",
    "                re.match(pattern1, folder) or folder == 'invoices' or folder == '_archive'):\n",
    "            get_files(path + \"/\" + folder)"
   ]
  },
  {
   "cell_type": "code",
   "execution_count": null,
   "metadata": {},
   "outputs": [],
   "source": [
    "get_files(path)"
   ]
  },
  {
   "cell_type": "markdown",
   "metadata": {},
   "source": [
    "## OCR"
   ]
  },
  {
   "cell_type": "code",
   "execution_count": 13,
   "metadata": {},
   "outputs": [
    {
     "data": {
      "application/vnd.jupyter.widget-view+json": {
       "model_id": "8afc6a1da220443abea3af4d2d8405f4",
       "version_major": 2,
       "version_minor": 0
      },
      "text/plain": [
       "  0%|          | 0/454 [00:00<?, ?it/s]"
      ]
     },
     "metadata": {},
     "output_type": "display_data"
    }
   ],
   "source": [
    "t = tqdm(os.listdir(data_path))\n",
    "for folder in t:\n",
    "    t.set_description(folder)\n",
    "    t.refresh()\n",
    "    if not os.path.isfile(data_path + '/' + folder + '/ocr.txt'):\n",
    "        for file in os.listdir(data_path + \"/\" + folder):\n",
    "            try:\n",
    "                images = convert_from_path(data_path + \"/\" + folder + \"/\" + file)\n",
    "                file_string = ''\n",
    "                for image in images:\n",
    "                    file_string += pytesseract.image_to_string(image)\n",
    "                with open(data_path + \"/\" + folder + \"/ocr.txt\", \"w\") as f:\n",
    "                    f.write(file_string)\n",
    "            except PDFPageCountError:\n",
    "                shutil.rmtree(data_path + \"/\" + folder, ignore_errors=True)\n",
    "                continue"
   ]
  },
  {
   "cell_type": "markdown",
   "metadata": {},
   "source": [
    "## Get Data"
   ]
  },
  {
   "cell_type": "code",
   "execution_count": 8,
   "metadata": {},
   "outputs": [],
   "source": [
    "def get_data():\n",
    "    server = config['server']\n",
    "    database = config['database']\n",
    "    username = config['db_user']\n",
    "    password = config['db_password']\n",
    "    cnxn = pyodbc.connect(\n",
    "        'DRIVER={SQL Server};SERVER=' + server + ';DATABASE=' + database + ';UID=' + username + ';PWD=' + password)\n",
    "    query = 'SELECT {} FROM abasbi.dbo.Purchasing$Purchasing_4_1 where MANDANT_ID = 2 AND NUMMER in ({})'\n",
    "    numbers = [\"'\" + i[5:] + \"'\" for i in os.listdir(data_path)]\n",
    "    query = query.format(data_fields, ','.join(numbers))\n",
    "    df = pd.read_sql(query, cnxn)\n",
    "    duplicates = set([x for x in df[\"nummer\"].tolist() if df[\"nummer\"].tolist().count(x) > 1])\n",
    "    if len(duplicates) > 0:\n",
    "        for folder in os.listdir(data_path):\n",
    "            if folder[5:] in duplicates:\n",
    "                shutil.rmtree(data_path + \"/\" + folder, ignore_errors=True)\n",
    "        get_data()\n",
    "    else:\n",
    "        df.to_csv('data.txt')"
   ]
  },
  {
   "cell_type": "code",
   "execution_count": 15,
   "metadata": {},
   "outputs": [],
   "source": [
    "get_data()"
   ]
  },
  {
   "cell_type": "markdown",
   "metadata": {},
   "source": [
    "## Merge Data with text"
   ]
  },
  {
   "cell_type": "code",
   "execution_count": 16,
   "metadata": {},
   "outputs": [],
   "source": [
    "df = pd.read_csv('data.txt')\n",
    "df = df.sort_values('nummer')\n",
    "text = []\n",
    "for folder in os.listdir(data_path):\n",
    "    tmp_path = data_path + \"/\" + folder + \"/ocr.txt\"\n",
    "    with open(tmp_path) as file:\n",
    "        text.append(file.read())\n",
    "df['text'] = text\n",
    "df.to_csv('train.txt')"
   ]
  },
  {
   "cell_type": "code",
   "execution_count": null,
   "metadata": {},
   "outputs": [],
   "source": []
  }
 ],
 "metadata": {
  "kernelspec": {
   "display_name": "Python 3",
   "language": "python",
   "name": "python3"
  },
  "language_info": {
   "codemirror_mode": {
    "name": "ipython",
    "version": 3
   },
   "file_extension": ".py",
   "mimetype": "text/x-python",
   "name": "python",
   "nbconvert_exporter": "python",
   "pygments_lexer": "ipython3",
   "version": "3.8.5"
  }
 },
 "nbformat": 4,
 "nbformat_minor": 4
}
